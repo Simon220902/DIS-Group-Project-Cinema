{
 "cells": [
  {
   "cell_type": "code",
   "execution_count": 1,
   "metadata": {},
   "outputs": [],
   "source": [
    "import csv"
   ]
  },
  {
   "cell_type": "code",
   "execution_count": 7,
   "metadata": {},
   "outputs": [
    {
     "name": "stdout",
     "output_type": "stream",
     "text": [
      "{'Poster_Link': 'https://m.media-amazon.com/images/M/MV5BMDFkYTc0MGEtZmNhMC00ZDIzLWFmNTEtODM1ZmRlYWMwMWFmXkEyXkFqcGdeQXVyMTMxODk2OTU@._V1_UX67_CR0,0,67,98_AL_.jpg', 'Series_Title': 'The Shawshank Redemption', 'Released_Year': '1994', 'Certificate': 'A', 'Runtime': '142 min', 'Genre': 'Drama', 'IMDB_Rating': '9.3', 'Overview': 'Two imprisoned men bond over a number of years, finding solace and eventual redemption through acts of common decency.', 'Meta_score': '80', 'Director': 'Frank Darabont', 'Star1': 'Tim Robbins', 'Star2': 'Morgan Freeman', 'Star3': 'Bob Gunton', 'Star4': 'William Sadler', 'No_of_Votes': '2343110', 'Gross': '28,341,469'}\n",
      "{'Poster_Link': 'https://m.media-amazon.com/images/M/MV5BM2MyNjYxNmUtYTAwNi00MTYxLWJmNWYtYzZlODY3ZTk3OTFlXkEyXkFqcGdeQXVyNzkwMjQ5NzM@._V1_UY98_CR1,0,67,98_AL_.jpg', 'Series_Title': 'The Godfather', 'Released_Year': '1972', 'Certificate': 'A', 'Runtime': '175 min', 'Genre': 'Crime, Drama', 'IMDB_Rating': '9.2', 'Overview': \"An organized crime dynasty's aging patriarch transfers control of his clandestine empire to his reluctant son.\", 'Meta_score': '100', 'Director': 'Francis Ford Coppola', 'Star1': 'Marlon Brando', 'Star2': 'Al Pacino', 'Star3': 'James Caan', 'Star4': 'Diane Keaton', 'No_of_Votes': '1620367', 'Gross': '134,966,411'}\n",
      "{'Poster_Link': 'https://m.media-amazon.com/images/M/MV5BMTMxNTMwODM0NF5BMl5BanBnXkFtZTcwODAyMTk2Mw@@._V1_UX67_CR0,0,67,98_AL_.jpg', 'Series_Title': 'The Dark Knight', 'Released_Year': '2008', 'Certificate': 'UA', 'Runtime': '152 min', 'Genre': 'Action, Crime, Drama', 'IMDB_Rating': '9', 'Overview': 'When the menace known as the Joker wreaks havoc and chaos on the people of Gotham, Batman must accept one of the greatest psychological and physical tests of his ability to fight injustice.', 'Meta_score': '84', 'Director': 'Christopher Nolan', 'Star1': 'Christian Bale', 'Star2': 'Heath Ledger', 'Star3': 'Aaron Eckhart', 'Star4': 'Michael Caine', 'No_of_Votes': '2303232', 'Gross': '534,858,444'}\n",
      "{'Poster_Link': 'https://m.media-amazon.com/images/M/MV5BMWMwMGQzZTItY2JlNC00OWZiLWIyMDctNDk2ZDQ2YjRjMWQ0XkEyXkFqcGdeQXVyNzkwMjQ5NzM@._V1_UY98_CR1,0,67,98_AL_.jpg', 'Series_Title': 'The Godfather: Part II', 'Released_Year': '1974', 'Certificate': 'A', 'Runtime': '202 min', 'Genre': 'Crime, Drama', 'IMDB_Rating': '9', 'Overview': 'The early life and career of Vito Corleone in 1920s New York City is portrayed, while his son, Michael, expands and tightens his grip on the family crime syndicate.', 'Meta_score': '90', 'Director': 'Francis Ford Coppola', 'Star1': 'Al Pacino', 'Star2': 'Robert De Niro', 'Star3': 'Robert Duvall', 'Star4': 'Diane Keaton', 'No_of_Votes': '1129952', 'Gross': '57,300,000'}\n",
      "{'Poster_Link': 'https://m.media-amazon.com/images/M/MV5BMWU4N2FjNzYtNTVkNC00NzQ0LTg0MjAtYTJlMjFhNGUxZDFmXkEyXkFqcGdeQXVyNjc1NTYyMjg@._V1_UX67_CR0,0,67,98_AL_.jpg', 'Series_Title': '12 Angry Men', 'Released_Year': '1957', 'Certificate': 'U', 'Runtime': '96 min', 'Genre': 'Crime, Drama', 'IMDB_Rating': '9', 'Overview': 'A jury holdout attempts to prevent a miscarriage of justice by forcing his colleagues to reconsider the evidence.', 'Meta_score': '96', 'Director': 'Sidney Lumet', 'Star1': 'Henry Fonda', 'Star2': 'Lee J. Cobb', 'Star3': 'Martin Balsam', 'Star4': 'John Fiedler', 'No_of_Votes': '689845', 'Gross': '4,360,000'}\n"
     ]
    }
   ],
   "source": [
    "all_movies = []\n",
    "with open(\"imdb_top_1000.csv\", newline=\"\\n\") as csvfile:\n",
    "    reader = list(csv.DictReader(csvfile, delimiter=\",\", quotechar='\"'))\n",
    "    all_movies = reader\n",
    "    for row in reader[:50]:\n",
    "        print(row)"
   ]
  },
  {
   "cell_type": "code",
   "execution_count": 4,
   "metadata": {},
   "outputs": [
    {
     "name": "stdout",
     "output_type": "stream",
     "text": [
      "[0, 1, 2]\n"
     ]
    }
   ],
   "source": [
    "a = [i for i in range(10)]\n",
    "print(a[:3])"
   ]
  },
  {
   "cell_type": "code",
   "execution_count": 8,
   "metadata": {},
   "outputs": [
    {
     "ename": "TypeError",
     "evalue": "filter expected 2 arguments, got 1",
     "output_type": "error",
     "traceback": [
      "\u001b[0;31m---------------------------------------------------------------------------\u001b[0m",
      "\u001b[0;31mTypeError\u001b[0m                                 Traceback (most recent call last)",
      "Cell \u001b[0;32mIn [8], line 2\u001b[0m\n\u001b[1;32m      1\u001b[0m omdb_image_link \u001b[38;5;241m=\u001b[39m \u001b[38;5;124m\"\u001b[39m\u001b[38;5;124mhttps://m.media-amazon.com/images/M/MV5BMWMwMGQzZTItY2JlNC00OWZiLWIyMDctNDk2ZDQ2YjRjMWQ0XkEyXkFqcGdeQXVyNzkwMjQ5NzM@._V1_SX300.jpg\u001b[39m\u001b[38;5;124m\"\u001b[39m\n\u001b[0;32m----> 2\u001b[0m only_god_father_II \u001b[38;5;241m=\u001b[39m \u001b[38;5;28mlist\u001b[39m(\u001b[38;5;28;43mfilter\u001b[39;49m\u001b[43m(\u001b[49m\u001b[38;5;28;43;01mlambda\u001b[39;49;00m\u001b[43m \u001b[49m\u001b[43md\u001b[49m\u001b[43m:\u001b[49m\u001b[43m \u001b[49m\u001b[43md\u001b[49m\u001b[43m[\u001b[49m\u001b[38;5;124;43m'\u001b[39;49m\u001b[38;5;124;43mSeries_Title\u001b[39;49m\u001b[38;5;124;43m'\u001b[39;49m\u001b[43m]\u001b[49m\u001b[43m \u001b[49m\u001b[38;5;241;43m==\u001b[39;49m\u001b[43m \u001b[49m\u001b[38;5;124;43m'\u001b[39;49m\u001b[38;5;124;43mThe Godfather: Part II\u001b[39;49m\u001b[38;5;124;43m'\u001b[39;49m\u001b[43m)\u001b[49m)\n\u001b[1;32m      3\u001b[0m \u001b[38;5;28mprint\u001b[39m(only_god_father_II)\n",
      "\u001b[0;31mTypeError\u001b[0m: filter expected 2 arguments, got 1"
     ]
    }
   ],
   "source": [
    "omdb_image_link = \"https://m.media-amazon.com/images/M/MV5BMWMwMGQzZTItY2JlNC00OWZiLWIyMDctNDk2ZDQ2YjRjMWQ0XkEyXkFqcGdeQXVyNzkwMjQ5NzM@._V1_SX300.jpg\"\n",
    "only_god_father_II = list(filter(lambda d: d['Series_Title'] == 'The Godfather: Part II'), )\n",
    "print(only_god_father_II)"
   ]
  }
 ],
 "metadata": {
  "kernelspec": {
   "display_name": "Python 3",
   "language": "python",
   "name": "python3"
  },
  "language_info": {
   "codemirror_mode": {
    "name": "ipython",
    "version": 3
   },
   "file_extension": ".py",
   "mimetype": "text/x-python",
   "name": "python",
   "nbconvert_exporter": "python",
   "pygments_lexer": "ipython3",
   "version": "3.11.0"
  }
 },
 "nbformat": 4,
 "nbformat_minor": 2
}
