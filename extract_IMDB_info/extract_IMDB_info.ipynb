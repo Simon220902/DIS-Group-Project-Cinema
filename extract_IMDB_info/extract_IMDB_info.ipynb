{
 "cells": [
  {
   "cell_type": "code",
   "execution_count": 1,
   "metadata": {},
   "outputs": [],
   "source": [
    "import csv"
   ]
  },
  {
   "cell_type": "code",
   "execution_count": 10,
   "metadata": {},
   "outputs": [
    {
     "name": "stdout",
     "output_type": "stream",
     "text": [
      "{'Poster_Link': 'https://m.media-amazon.com/images/M/MV5BMDFkYTc0MGEtZmNhMC00ZDIzLWFmNTEtODM1ZmRlYWMwMWFmXkEyXkFqcGdeQXVyMTMxODk2OTU@._V1_UX67_CR0,0,67,98_AL_.jpg', 'Series_Title': 'The Shawshank Redemption', 'Released_Year': '1994', 'Certificate': 'A', 'Runtime': '142 min', 'Genre': 'Drama', 'IMDB_Rating': '9.3', 'Overview': 'Two imprisoned men bond over a number of years, finding solace and eventual redemption through acts of common decency.', 'Meta_score': '80', 'Director': 'Frank Darabont', 'Star1': 'Tim Robbins', 'Star2': 'Morgan Freeman', 'Star3': 'Bob Gunton', 'Star4': 'William Sadler', 'No_of_Votes': '2343110', 'Gross': '28,341,469'}\n",
      "{'Poster_Link': 'https://m.media-amazon.com/images/M/MV5BM2MyNjYxNmUtYTAwNi00MTYxLWJmNWYtYzZlODY3ZTk3OTFlXkEyXkFqcGdeQXVyNzkwMjQ5NzM@._V1_UY98_CR1,0,67,98_AL_.jpg', 'Series_Title': 'The Godfather', 'Released_Year': '1972', 'Certificate': 'A', 'Runtime': '175 min', 'Genre': 'Crime, Drama', 'IMDB_Rating': '9.2', 'Overview': \"An organized crime dynasty's aging patriarch transfers control of his clandestine empire to his reluctant son.\", 'Meta_score': '100', 'Director': 'Francis Ford Coppola', 'Star1': 'Marlon Brando', 'Star2': 'Al Pacino', 'Star3': 'James Caan', 'Star4': 'Diane Keaton', 'No_of_Votes': '1620367', 'Gross': '134,966,411'}\n",
      "{'Poster_Link': 'https://m.media-amazon.com/images/M/MV5BMTMxNTMwODM0NF5BMl5BanBnXkFtZTcwODAyMTk2Mw@@._V1_UX67_CR0,0,67,98_AL_.jpg', 'Series_Title': 'The Dark Knight', 'Released_Year': '2008', 'Certificate': 'UA', 'Runtime': '152 min', 'Genre': 'Action, Crime, Drama', 'IMDB_Rating': '9', 'Overview': 'When the menace known as the Joker wreaks havoc and chaos on the people of Gotham, Batman must accept one of the greatest psychological and physical tests of his ability to fight injustice.', 'Meta_score': '84', 'Director': 'Christopher Nolan', 'Star1': 'Christian Bale', 'Star2': 'Heath Ledger', 'Star3': 'Aaron Eckhart', 'Star4': 'Michael Caine', 'No_of_Votes': '2303232', 'Gross': '534,858,444'}\n",
      "{'Poster_Link': 'https://m.media-amazon.com/images/M/MV5BMWMwMGQzZTItY2JlNC00OWZiLWIyMDctNDk2ZDQ2YjRjMWQ0XkEyXkFqcGdeQXVyNzkwMjQ5NzM@._V1_UY98_CR1,0,67,98_AL_.jpg', 'Series_Title': 'The Godfather: Part II', 'Released_Year': '1974', 'Certificate': 'A', 'Runtime': '202 min', 'Genre': 'Crime, Drama', 'IMDB_Rating': '9', 'Overview': 'The early life and career of Vito Corleone in 1920s New York City is portrayed, while his son, Michael, expands and tightens his grip on the family crime syndicate.', 'Meta_score': '90', 'Director': 'Francis Ford Coppola', 'Star1': 'Al Pacino', 'Star2': 'Robert De Niro', 'Star3': 'Robert Duvall', 'Star4': 'Diane Keaton', 'No_of_Votes': '1129952', 'Gross': '57,300,000'}\n",
      "{'Poster_Link': 'https://m.media-amazon.com/images/M/MV5BMWU4N2FjNzYtNTVkNC00NzQ0LTg0MjAtYTJlMjFhNGUxZDFmXkEyXkFqcGdeQXVyNjc1NTYyMjg@._V1_UX67_CR0,0,67,98_AL_.jpg', 'Series_Title': '12 Angry Men', 'Released_Year': '1957', 'Certificate': 'U', 'Runtime': '96 min', 'Genre': 'Crime, Drama', 'IMDB_Rating': '9', 'Overview': 'A jury holdout attempts to prevent a miscarriage of justice by forcing his colleagues to reconsider the evidence.', 'Meta_score': '96', 'Director': 'Sidney Lumet', 'Star1': 'Henry Fonda', 'Star2': 'Lee J. Cobb', 'Star3': 'Martin Balsam', 'Star4': 'John Fiedler', 'No_of_Votes': '689845', 'Gross': '4,360,000'}\n"
     ]
    }
   ],
   "source": [
    "all_movies = []\n",
    "with open(\"imdb_top_1000.csv\", newline=\"\\n\") as csvfile:\n",
    "    reader = list(csv.DictReader(csvfile, delimiter=\",\", quotechar='\"'))\n",
    "    all_movies = reader\n",
    "    for row in reader[:5]:\n",
    "        print(row)"
   ]
  },
  {
   "cell_type": "code",
   "execution_count": 4,
   "metadata": {},
   "outputs": [
    {
     "name": "stdout",
     "output_type": "stream",
     "text": [
      "[0, 1, 2]\n"
     ]
    }
   ],
   "source": [
    "a = [i for i in range(10)]\n",
    "print(a[:3])"
   ]
  },
  {
   "cell_type": "code",
   "execution_count": 19,
   "metadata": {},
   "outputs": [
    {
     "name": "stdout",
     "output_type": "stream",
     "text": [
      "Godfather II:\n",
      "https://m.media-amazon.com/images/M/MV5BMWMwMGQzZTItY2JlNC00OWZiLWIyMDctNDk2ZDQ2YjRjMWQ0XkEyXkFqcGdeQXVyNzkwMjQ5NzM@._V1_SX300.jpg\n",
      "https://m.media-amazon.com/images/M/MV5BMWMwMGQzZTItY2JlNC00OWZiLWIyMDctNDk2ZDQ2YjRjMWQ0XkEyXkFqcGdeQXVyNzkwMjQ5NzM@._V1_UY98_CR1,0,67,98_AL_.jpg\n",
      "Dark Knight:\n",
      "https://m.media-amazon.com/images/M/MV5BMTMxNTMwODM0NF5BMl5BanBnXkFtZTcwODAyMTk2Mw@@._V1_SX300.jpg\n",
      "https://m.media-amazon.com/images/M/MV5BMTMxNTMwODM0NF5BMl5BanBnXkFtZTcwODAyMTk2Mw@@._V1_UX67_CR0,0,67,98_AL_.jpg\n"
     ]
    }
   ],
   "source": [
    "print(\"Godfather II:\")\n",
    "omdb_image_link_godfather_II = \"https://m.media-amazon.com/images/M/MV5BMWMwMGQzZTItY2JlNC00OWZiLWIyMDctNDk2ZDQ2YjRjMWQ0XkEyXkFqcGdeQXVyNzkwMjQ5NzM@._V1_SX300.jpg\"\n",
    "only_god_father_II = list(filter(lambda d: d['Series_Title'] == 'The Godfather: Part II', all_movies))[0]\n",
    "imdb_image_link_godfather_II = only_god_father_II['Poster_Link']\n",
    "print(omdb_image_link_godfather_II)\n",
    "print(imdb_image_link_godfather_II)\n",
    "\n",
    "print(\"Dark Knight:\")\n",
    "omdb_image_link_dark_knight = \"https://m.media-amazon.com/images/M/MV5BMTMxNTMwODM0NF5BMl5BanBnXkFtZTcwODAyMTk2Mw@@._V1_SX300.jpg\"\n",
    "only_dark_knight = list(filter(lambda d: d['Series_Title'] == 'The Dark Knight', all_movies))[0]\n",
    "imdb_image_link_dark_knight = only_dark_knight['Poster_Link']\n",
    "print(omdb_image_link_dark_knight)\n",
    "print(imdb_image_link_dark_knight)"
   ]
  },
  {
   "cell_type": "code",
   "execution_count": 21,
   "metadata": {},
   "outputs": [
    {
     "name": "stdout",
     "output_type": "stream",
     "text": [
      "https://m.media-amazon.com/images/M/MV5BMTMxNTMwODM0NF5BMl5BanBnXkFtZTcwODAyMTk2Mw@@._V1_SX300.jpg\n",
      "True\n"
     ]
    }
   ],
   "source": [
    "import re\n",
    "# Replace [***] in \"V1_[***].jpg\" with \"SX300\"\n",
    "\n",
    "# text = \"Hello, codedamn coders! Welcome to codedamn community!\"\n",
    "# new_text = re.sub(\"codedamn\", \"CODEDAMN\", text)\n",
    "\n",
    "def make_image_link_bigger(link):\n",
    "    return re.sub(\"V1_.*\\.jpg\", \"V1_SX300.jpg\", link)\n",
    "\n",
    "print(make_image_link_bigger(imdb_image_link_dark_knight))\n",
    "print(make_image_link_bigger(imdb_image_link_dark_knight) == omdb_image_link_dark_knight)"
   ]
  },
  {
   "cell_type": "code",
   "execution_count": 24,
   "metadata": {},
   "outputs": [],
   "source": [
    "def replace_image_link(d):\n",
    "    d_ = d.copy()\n",
    "    d_['Poster_Link'] = make_image_link_bigger(d_['Poster_Link'])\n",
    "    return d_\n",
    "all_movies_with_bigger_images = list(map(replace_image_link, all_movies))"
   ]
  },
  {
   "cell_type": "code",
   "execution_count": 25,
   "metadata": {},
   "outputs": [
    {
     "name": "stdout",
     "output_type": "stream",
     "text": [
      "{'Poster_Link': 'https://m.media-amazon.com/images/M/MV5BMDFkYTc0MGEtZmNhMC00ZDIzLWFmNTEtODM1ZmRlYWMwMWFmXkEyXkFqcGdeQXVyMTMxODk2OTU@._V1_SX300.jpg', 'Series_Title': 'The Shawshank Redemption', 'Released_Year': '1994', 'Certificate': 'A', 'Runtime': '142 min', 'Genre': 'Drama', 'IMDB_Rating': '9.3', 'Overview': 'Two imprisoned men bond over a number of years, finding solace and eventual redemption through acts of common decency.', 'Meta_score': '80', 'Director': 'Frank Darabont', 'Star1': 'Tim Robbins', 'Star2': 'Morgan Freeman', 'Star3': 'Bob Gunton', 'Star4': 'William Sadler', 'No_of_Votes': '2343110', 'Gross': '28,341,469'}\n",
      "{'Poster_Link': 'https://m.media-amazon.com/images/M/MV5BM2MyNjYxNmUtYTAwNi00MTYxLWJmNWYtYzZlODY3ZTk3OTFlXkEyXkFqcGdeQXVyNzkwMjQ5NzM@._V1_SX300.jpg', 'Series_Title': 'The Godfather', 'Released_Year': '1972', 'Certificate': 'A', 'Runtime': '175 min', 'Genre': 'Crime, Drama', 'IMDB_Rating': '9.2', 'Overview': \"An organized crime dynasty's aging patriarch transfers control of his clandestine empire to his reluctant son.\", 'Meta_score': '100', 'Director': 'Francis Ford Coppola', 'Star1': 'Marlon Brando', 'Star2': 'Al Pacino', 'Star3': 'James Caan', 'Star4': 'Diane Keaton', 'No_of_Votes': '1620367', 'Gross': '134,966,411'}\n",
      "{'Poster_Link': 'https://m.media-amazon.com/images/M/MV5BMTMxNTMwODM0NF5BMl5BanBnXkFtZTcwODAyMTk2Mw@@._V1_SX300.jpg', 'Series_Title': 'The Dark Knight', 'Released_Year': '2008', 'Certificate': 'UA', 'Runtime': '152 min', 'Genre': 'Action, Crime, Drama', 'IMDB_Rating': '9', 'Overview': 'When the menace known as the Joker wreaks havoc and chaos on the people of Gotham, Batman must accept one of the greatest psychological and physical tests of his ability to fight injustice.', 'Meta_score': '84', 'Director': 'Christopher Nolan', 'Star1': 'Christian Bale', 'Star2': 'Heath Ledger', 'Star3': 'Aaron Eckhart', 'Star4': 'Michael Caine', 'No_of_Votes': '2303232', 'Gross': '534,858,444'}\n",
      "{'Poster_Link': 'https://m.media-amazon.com/images/M/MV5BMWMwMGQzZTItY2JlNC00OWZiLWIyMDctNDk2ZDQ2YjRjMWQ0XkEyXkFqcGdeQXVyNzkwMjQ5NzM@._V1_SX300.jpg', 'Series_Title': 'The Godfather: Part II', 'Released_Year': '1974', 'Certificate': 'A', 'Runtime': '202 min', 'Genre': 'Crime, Drama', 'IMDB_Rating': '9', 'Overview': 'The early life and career of Vito Corleone in 1920s New York City is portrayed, while his son, Michael, expands and tightens his grip on the family crime syndicate.', 'Meta_score': '90', 'Director': 'Francis Ford Coppola', 'Star1': 'Al Pacino', 'Star2': 'Robert De Niro', 'Star3': 'Robert Duvall', 'Star4': 'Diane Keaton', 'No_of_Votes': '1129952', 'Gross': '57,300,000'}\n",
      "{'Poster_Link': 'https://m.media-amazon.com/images/M/MV5BMWU4N2FjNzYtNTVkNC00NzQ0LTg0MjAtYTJlMjFhNGUxZDFmXkEyXkFqcGdeQXVyNjc1NTYyMjg@._V1_SX300.jpg', 'Series_Title': '12 Angry Men', 'Released_Year': '1957', 'Certificate': 'U', 'Runtime': '96 min', 'Genre': 'Crime, Drama', 'IMDB_Rating': '9', 'Overview': 'A jury holdout attempts to prevent a miscarriage of justice by forcing his colleagues to reconsider the evidence.', 'Meta_score': '96', 'Director': 'Sidney Lumet', 'Star1': 'Henry Fonda', 'Star2': 'Lee J. Cobb', 'Star3': 'Martin Balsam', 'Star4': 'John Fiedler', 'No_of_Votes': '689845', 'Gross': '4,360,000'}\n"
     ]
    }
   ],
   "source": [
    "for movie_dict in all_movies_with_bigger_images[:5]:\n",
    "    print(movie_dict)"
   ]
  },
  {
   "cell_type": "code",
   "execution_count": 29,
   "metadata": {},
   "outputs": [
    {
     "name": "stdout",
     "output_type": "stream",
     "text": [
      "BEFORE:  {'Poster_Link': (0, ''), 'Series_Title': (0, ''), 'Released_Year': (0, ''), 'Certificate': (0, ''), 'Runtime': (0, ''), 'Genre': (0, ''), 'IMDB_Rating': (0, ''), 'Overview': (0, ''), 'Meta_score': (0, ''), 'Director': (0, ''), 'Star1': (0, ''), 'Star2': (0, ''), 'Star3': (0, ''), 'Star4': (0, ''), 'No_of_Votes': (0, ''), 'Gross': (0, '')}\n",
      "AFTER:  {'Poster_Link': (146, 'https://m.media-amazon.com/images/M/MV5BZjA0OWVhOTAtYWQxNi00YzNhLWI4ZjYtNjFjZTEyYjJlNDVlL2ltYWdlL2ltYWdlXkEyXkFqcGdeQXVyMTQxNzMzNDI@._V1_SX300.jpg'), 'Series_Title': (68, 'Dr. Strangelove or: How I Learned to Stop Worrying and Love the Bomb'), 'Released_Year': (4, '1994'), 'Certificate': (8, 'Approved'), 'Runtime': (7, '142 min'), 'Genre': (29, 'Animation, Adventure, Fantasy'), 'IMDB_Rating': (3, '9.3'), 'Overview': (313, \"As adults, best friends Julien and Sophie continue the odd game they started as children -- a fearless competition to outdo one another with daring and outrageous stunts. While they often act out to relieve one another's pain, their game might be a way to avoid the fact that they are truly meant for one another.\"), 'Meta_score': (3, '100'), 'Director': (32, 'Florian Henckel von Donnersmarck'), 'Star1': (25, \"Predrag 'Miki' Manojlovic\"), 'Star2': (25, 'Mélissa Désormeaux-Poulin'), 'Star3': (27, 'Boluwatife Treasure Bankole'), 'Star4': (27, 'Mary Elizabeth Mastrantonio'), 'No_of_Votes': (7, '2343110'), 'Gross': (11, '134,966,411')}\n"
     ]
    }
   ],
   "source": [
    "max_dict = {key : (0, \"\") for key in all_movies_with_bigger_images[0].keys()}\n",
    "print(\"BEFORE: \", max_dict)\n",
    "for movie_dict in all_movies_with_bigger_images:\n",
    "    for key in movie_dict.keys():\n",
    "        if max_dict[key][0] < len(movie_dict[key]):\n",
    "            max_dict[key] = (len(movie_dict[key]), movie_dict[key])\n",
    "print(\"AFTER: \", max_dict)"
   ]
  },
  {
   "cell_type": "code",
   "execution_count": 30,
   "metadata": {},
   "outputs": [
    {
     "name": "stdout",
     "output_type": "stream",
     "text": [
      "dict_keys(['Poster_Link', 'Series_Title', 'Released_Year', 'Certificate', 'Runtime', 'Genre', 'IMDB_Rating', 'Overview', 'Meta_score', 'Director', 'Star1', 'Star2', 'Star3', 'Star4', 'No_of_Votes', 'Gross'])\n"
     ]
    }
   ],
   "source": [
    "print(all_movies_with_bigger_images[0].keys())"
   ]
  },
  {
   "cell_type": "code",
   "execution_count": 47,
   "metadata": {},
   "outputs": [],
   "source": [
    "# CREATE TABLE movies\n",
    "# (\n",
    "#     id SERIAL PRIMARY KEY,\n",
    "#     title VARCHAR(70) NOT NULL,\n",
    "#     poster_link VARCHAR(150) NOT NULL,\n",
    "#     certificate VARCHAR(10) NOT NULL,\n",
    "#     meta_score INT NOT NULL,\n",
    "#     runtime INT NOT NULL,\n",
    "#     overview VARCHAR(350) NOT NULL,\n",
    "\n",
    "#     director_id INT NOT NULL,\n",
    "#     FOREIGN KEY (director_id) REFERENCES directors (id)\n",
    "# );\n",
    "\n",
    "all_movies_data_ready = []\n",
    "for movie_dict in all_movies_with_bigger_images:\n",
    "    new_movie_dict = dict()\n",
    "    \n",
    "    replace_quote_with_other_char = lambda s: s.replace(\"'\", \"´\")\n",
    "\n",
    "    # Transfering the data that can be transfered directly\n",
    "    new_movie_dict['title'] = replace_quote_with_other_char(movie_dict['Series_Title'])\n",
    "    new_movie_dict['poster_link'] = replace_quote_with_other_char(movie_dict['Poster_Link'])\n",
    "    new_movie_dict['certificate'] = replace_quote_with_other_char(movie_dict['Certificate'])\n",
    "    new_movie_dict['overview'] = replace_quote_with_other_char(movie_dict['Overview'])\n",
    "    new_movie_dict['director_name'] = replace_quote_with_other_char(movie_dict['Director'])\n",
    "\n",
    "    # Translating data\n",
    "    new_movie_dict['meta_score'] = 0 if movie_dict['Meta_score'] == \"\" else int(movie_dict['Meta_score'])\n",
    "    new_movie_dict['runtime'] = int(movie_dict['Runtime'].split(\" \")[0]) #Runtime is formatted as \"xxx min\"\n",
    "    stars = list(filter(lambda s: s != \"\", [replace_quote_with_other_char(movie_dict[f\"Star{i}\"]) for i in range(1, 5)]))\n",
    "    new_movie_dict['stars'] = stars\n",
    "    \n",
    "    all_movies_data_ready.append(new_movie_dict)"
   ]
  },
  {
   "cell_type": "code",
   "execution_count": 43,
   "metadata": {},
   "outputs": [],
   "source": [
    "# two_or_fewer_stars = list(filter(lambda d: len(d[\"stars\"]) < 4, all_movies_data_ready))\n",
    "# two_or_fewer_stars[0]\n",
    "# ALL MOVIES ACTUALLY HAVE FOUR STARS COOL :D"
   ]
  },
  {
   "cell_type": "code",
   "execution_count": 50,
   "metadata": {},
   "outputs": [],
   "source": [
    "# CREATE TABLE movies\n",
    "# (\n",
    "#     id SERIAL PRIMARY KEY,\n",
    "#     title VARCHAR(70) NOT NULL,\n",
    "#     poster_link VARCHAR(150) NOT NULL,\n",
    "#     certificate VARCHAR(10) NOT NULL,\n",
    "#     meta_score INT NOT NULL,\n",
    "#     runtime INT NOT NULL,\n",
    "#     overview VARCHAR(350) NOT NULL,\n",
    "#     director_id INT NOT NULL,\n",
    "#     FOREIGN KEY (director_id) REFERENCES directors (id)\n",
    "# );\n",
    "\n",
    "def create_movie_insert_statement(movie_dict):\n",
    "    sql_prefix = \"INSERT INTO movies (title, poster_link, certificate, meta_score, runtime, overview) VALUES \\n\"\n",
    "    sql_with_values_single_movie = lambda movie_dict: f\"('{movie_dict['title']}', '{movie_dict['poster_link']}', '{movie_dict['certificate']}', {movie_dict['meta_score']}, {movie_dict['runtime']}, '{movie_dict['overview']}');\\n\\n\"\n",
    "    return f\"{sql_prefix}{sql_with_values_single_movie(movie_dict)}\""
   ]
  },
  {
   "cell_type": "code",
   "execution_count": 51,
   "metadata": {},
   "outputs": [],
   "source": [
    "# BASE SCRIPT FOR GENERATING MOVIES INSERT STATEMENTS\n",
    "with open(\"insert_movies.sql\", \"w\") as f:\n",
    "    for movie_dict in all_movies_data_ready:\n",
    "        f.write(create_movie_insert_statement(movie_dict))"
   ]
  },
  {
   "cell_type": "code",
   "execution_count": 56,
   "metadata": {},
   "outputs": [],
   "source": [
    "# CREATE TABLE directors\n",
    "# (\n",
    "#     id SERIAL PRIMARY KEY,\n",
    "#     name VARCHAR(35) NOT NULL\n",
    "# );\n",
    "def create_director_insert_statement(director_name):\n",
    "    sql_prefix = \"INSERT INTO directors (name) VALUES \\n\"\n",
    "    sql_with_values_single_director = lambda director_name: f\"('{director_name}');\\n\\n\"\n",
    "    return f\"{sql_prefix}{sql_with_values_single_director(director_name)}\"\n",
    "\n",
    "# SCRIPT FOR ADDING DIRECTORS\n",
    "all_directors = list(set([movie_dict['director_name'] for movie_dict in all_movies_data_ready]))\n",
    "#print(len(all_directors))\n",
    "with open(\"insert_directors.sql\", \"w\") as f:\n",
    "    for director_name in all_directors:\n",
    "        f.write(create_director_insert_statement(director_name))"
   ]
  },
  {
   "cell_type": "code",
   "execution_count": 59,
   "metadata": {},
   "outputs": [
    {
     "name": "stdout",
     "output_type": "stream",
     "text": [
      "2709\n",
      "['Sushant Singh Rajput', 'Rob Minkoff', 'Strother Martin', 'Liam Cunningham', 'George Macready']\n"
     ]
    }
   ],
   "source": [
    "# CREATE TABLE stars\n",
    "# (\n",
    "#     id SERIAL PRIMARY KEY,\n",
    "#     name VARCHAR(35) NOT NULL\n",
    "# );\n",
    "def create_star_insert_statement(star_name):\n",
    "    sql_prefix = \"INSERT INTO stars (name) VALUES \\n\"\n",
    "    sql_with_values_single_director = lambda star_name: f\"('{star_name}');\\n\\n\"\n",
    "    return f\"{sql_prefix}{sql_with_values_single_director(star_name)}\"\n",
    "\n",
    "# SCRIPT FOR ADDING DIRECTORS\n",
    "all_stars = list(set([star_name for movie_dict in all_movies_data_ready for star_name in movie_dict['stars']]))\n",
    "# print(len(all_stars))\n",
    "# print(all_stars[:5])\n",
    "with open(\"insert_stars.sql\", \"w\") as f:\n",
    "    for star_name in all_stars:\n",
    "        f.write(create_star_insert_statement(star_name))"
   ]
  }
 ],
 "metadata": {
  "kernelspec": {
   "display_name": "Python 3",
   "language": "python",
   "name": "python3"
  },
  "language_info": {
   "codemirror_mode": {
    "name": "ipython",
    "version": 3
   },
   "file_extension": ".py",
   "mimetype": "text/x-python",
   "name": "python",
   "nbconvert_exporter": "python",
   "pygments_lexer": "ipython3",
   "version": "3.11.0"
  }
 },
 "nbformat": 4,
 "nbformat_minor": 2
}
